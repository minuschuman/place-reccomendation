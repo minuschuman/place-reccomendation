{
 "cells": [
  {
   "cell_type": "code",
   "execution_count": null,
   "metadata": {},
   "outputs": [],
   "source": [
    "import pymongo\n",
    "import csv\n",
    "import random\n",
    "import string  \n",
    "import bson\n",
    "\n",
    "from dotenv.main import load_dotenv\n",
    "import os\n",
    "load_dotenv()\n",
    "mongoUrl = os.environ['MONGO_URL']\n",
    "dbName = os.environ['DB_NAME']"
   ]
  },
  {
   "cell_type": "code",
   "execution_count": null,
   "metadata": {},
   "outputs": [],
   "source": [
    "def generate_object_id():\n",
    "    return bson.ObjectId()"
   ]
  },
  {
   "cell_type": "code",
   "execution_count": null,
   "metadata": {},
   "outputs": [],
   "source": [
    "def generate_password():\n",
    "    # You can implement your password generation logic here\n",
    "    # For simplicity, let's generate a random 8-character password\n",
    "    return '$2b$10$MGhPmw7y/ZfcrY77cdF5guNg4Ohj6MY1vAWxxq2w8p70VpcWduwCe'"
   ]
  },
  {
   "cell_type": "code",
   "execution_count": null,
   "metadata": {},
   "outputs": [],
   "source": [
    "def parse_coordinates(coordinates_str):\n",
    "    parts = coordinates_str.strip('POINT()').split()\n",
    "    return [float(parts[1]), float(parts[0])]"
   ]
  },
  {
   "cell_type": "code",
   "execution_count": null,
   "metadata": {},
   "outputs": [],
   "source": [
    "client = pymongo.MongoClient(mongoUrl)\n",
    "db = client[dbName]  # Replace with your database name\n",
    "users_collection = db[\"users\"]  # Collection for user data\n",
    "locations_collection = db[\"locations\"]"
   ]
  },
  {
   "cell_type": "code",
   "execution_count": null,
   "metadata": {},
   "outputs": [],
   "source": [
    "countries = [\n",
    "    \"Nepal\",\n",
    "    \"India\",\n",
    "    \"China\",\n",
    "    \"United States\",\n",
    "    \"Canada\",\n",
    "    \"Australia\",\n",
    "    \"United Kingdom\",\n",
    "    \"Germany\",\n",
    "    \"France\",\n",
    "    \"Japan\",\n",
    "    \"Brazil\",\n",
    "]"
   ]
  },
  {
   "cell_type": "code",
   "execution_count": null,
   "metadata": {},
   "outputs": [],
   "source": [
    "# Step 1: Generate User Data\n",
    "for _ in range(100):\n",
    "    user = {\n",
    "        \"_id\": generate_object_id(),\n",
    "        \"username\": f\"user{_}\",\n",
    "        \"password\": generate_password(),\n",
    "        \"firstname\": f\"First{_}\",\n",
    "        \"lastname\": f\"Last{_}\",\n",
    "        \"follower\": [],\n",
    "        \"following\": [],\n",
    "        \"country\": random.choice(countries),\n",
    "        \"livesIn\": random.choice(countries),\n",
    "        \"profilePicture\": \"\",\n",
    "        \"coverPicture\": \"\",\n",
    "        \"locations\": None  # We'll update this later\n",
    "    }\n",
    "    users_collection.insert_one(user)\n",
    "\n",
    "print(\"Generated 100 user records.\")"
   ]
  },
  {
   "cell_type": "code",
   "execution_count": null,
   "metadata": {},
   "outputs": [],
   "source": [
    "# Step 2: Read and Transform Location Data from CSV (5000 places)\n",
    "with open(\"./spots.csv\", \"r\") as csvfile:\n",
    "    csvreader = csv.DictReader(csvfile)\n",
    "    for index, row in enumerate(csvreader):\n",
    "        if index >= 500:  # Stop after reading 5000 places\n",
    "            break\n",
    "\n",
    "        location = {\n",
    "            \"_id\": generate_object_id(),\n",
    "            \"name\": row[\"spotname\"],\n",
    "            \"coordinate\": parse_coordinates(row[\"geo-coordinates\"]),\n",
    "            \"ratings\": []\n",
    "        }\n",
    "        locations_collection.insert_one(location)\n",
    "\n",
    "print(\"Inserted 500 location data from CSV.\")"
   ]
  },
  {
   "cell_type": "code",
   "execution_count": null,
   "metadata": {},
   "outputs": [],
   "source": [
    "# Step 3: Link User and Location Data\n",
    "users = list(users_collection.find({}))\n",
    "for user in users:\n",
    "    user_locations = random.sample(locations_collection.distinct(\"_id\"), random.randint(10, 15))\n",
    "    users_collection.update_one(\n",
    "        {\"_id\": user[\"_id\"]},\n",
    "        {\"$set\": {\"locations\": user_locations}}\n",
    "    )\n"
   ]
  },
  {
   "cell_type": "code",
   "execution_count": null,
   "metadata": {},
   "outputs": [],
   "source": [
    "# Step 4: Add Ratings to Locations\n",
    "users = list(users_collection.find({}))\n",
    "for user in users:\n",
    "    user_id = user[\"_id\"]\n",
    "    if user[\"locations\"]:\n",
    "        for location_id in user[\"locations\"]:\n",
    "            location = locations_collection.find_one({\"_id\": location_id})\n",
    "            if location:\n",
    "                existing_rating = next((r for r in location[\"ratings\"] if r[\"user_id\"] == user_id), None)\n",
    "                if existing_rating:\n",
    "                    # Update the existing rating if it exists\n",
    "                    existing_rating[\"rate\"] = random.randint(1, 5)\n",
    "                    existing_rating[\"review\"] = f\"Updated review by {user['username']} for {location['name']}\"\n",
    "                    locations_collection.update_one(\n",
    "                        {\"_id\": location[\"_id\"], \"ratings.user_id\": user_id},\n",
    "                        {\"$set\": {\"ratings.$\": existing_rating}}\n",
    "                    )\n",
    "                else:\n",
    "                    # Create a new rating if it doesn't exist\n",
    "                    new_rating = {\n",
    "                        \"user_id\": user_id,\n",
    "                        \"rate\": random.randint(1, 5),\n",
    "                        \"review\": f\"Review by {user['username']} for {location['name']}\"\n",
    "                    }\n",
    "                    locations_collection.update_one(\n",
    "                        {\"_id\": location[\"_id\"]},\n",
    "                        {\"$push\": {\"ratings\": new_rating}}\n",
    "                    )\n",
    "\n",
    "print(\"Added or updated ratings and reviews by users for their respective locations.\")\n"
   ]
  }
 ],
 "metadata": {
  "kernelspec": {
   "display_name": "Python 3",
   "language": "python",
   "name": "python3"
  },
  "language_info": {
   "codemirror_mode": {
    "name": "ipython",
    "version": 3
   },
   "file_extension": ".py",
   "mimetype": "text/x-python",
   "name": "python",
   "nbconvert_exporter": "python",
   "pygments_lexer": "ipython3",
   "version": "3.11.6"
  }
 },
 "nbformat": 4,
 "nbformat_minor": 2
}
